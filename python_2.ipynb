{
  "nbformat": 4,
  "nbformat_minor": 0,
  "metadata": {
    "colab": {
      "provenance": [],
      "include_colab_link": true
    },
    "kernelspec": {
      "name": "python3",
      "display_name": "Python 3"
    },
    "language_info": {
      "name": "python"
    }
  },
  "cells": [
    {
      "cell_type": "markdown",
      "metadata": {
        "id": "view-in-github",
        "colab_type": "text"
      },
      "source": [
        "<a href=\"https://colab.research.google.com/github/mohmmad25-hub/ANN/blob/main/python_2.ipynb\" target=\"_parent\"><img src=\"https://colab.research.google.com/assets/colab-badge.svg\" alt=\"Open In Colab\"/></a>"
      ]
    },
    {
      "cell_type": "code",
      "execution_count": null,
      "metadata": {
        "colab": {
          "base_uri": "https://localhost:8080/"
        },
        "id": "SyIqSUrEF8Lv",
        "outputId": "2059ffae-ae20-4da6-d109-83dae53b1853"
      },
      "outputs": [
        {
          "output_type": "stream",
          "name": "stdout",
          "text": [
            "Enter your age:22\n",
            "you are already an adult\n"
          ]
        }
      ],
      "source": [
        "age=int(input(\"Enter your age:\"))\n",
        "\n",
        "if age<18:\n",
        " print('you are minor')\n",
        "elif age ==18:\n",
        " print('you are just adult now')\n",
        "else:\n",
        " print('you are already an adult')"
      ]
    },
    {
      "cell_type": "code",
      "source": [
        "score= eval(input(\"enter your score:\"))\n",
        "\n",
        "if score >=90:\n",
        "  grade = \"A\"\n",
        "  print(\"your grade is \",grade)\n",
        "elif score >=80:\n",
        "  grade = \"B\"\n",
        "  print(\"your grade is \",grade)\n",
        "elif score >=70:\n",
        "  grade = \"C\"\n",
        "  print(\"your grade is \",grade)\n",
        "elif score >=60:\n",
        "  grade = \"D\"\n",
        "  print(\"your grade is \",grade)\n",
        "else:\n",
        "  grade = \"F\"\n",
        "  print(\"your grade is \",grade)"
      ],
      "metadata": {
        "colab": {
          "base_uri": "https://localhost:8080/"
        },
        "id": "LofyVk3mIJZC",
        "outputId": "8bd6e259-c17f-4aa2-8e22-48b6fd23b07a"
      },
      "execution_count": null,
      "outputs": [
        {
          "output_type": "stream",
          "name": "stdout",
          "text": [
            "enter your score:77\n",
            "your grade is  C\n"
          ]
        }
      ]
    },
    {
      "cell_type": "code",
      "source": [
        "fruits= [\"apple\",\"banana\",\"cherry\"]\n",
        "\n",
        "for index in fruits:\n",
        " print(\"I like\", index)"
      ],
      "metadata": {
        "colab": {
          "base_uri": "https://localhost:8080/"
        },
        "id": "FyrfFGPdMd24",
        "outputId": "680d8591-c296-4309-f768-da5171aa5669"
      },
      "execution_count": null,
      "outputs": [
        {
          "output_type": "stream",
          "name": "stdout",
          "text": [
            "I like apple\n",
            "I like banana\n",
            "I like cherry\n"
          ]
        }
      ]
    },
    {
      "cell_type": "code",
      "source": [
        "numbers = [5,10,15,20,25]\n",
        "sum=0\n",
        "for index in numbers:\n",
        " sum+=index\n",
        "print(\"the sum is\", sum)"
      ],
      "metadata": {
        "colab": {
          "base_uri": "https://localhost:8080/"
        },
        "id": "DapqdKLVPALQ",
        "outputId": "e75b8ceb-12e4-45c3-f910-4900f606ebb0"
      },
      "execution_count": null,
      "outputs": [
        {
          "output_type": "stream",
          "name": "stdout",
          "text": [
            "the sum is 75\n"
          ]
        }
      ]
    },
    {
      "cell_type": "code",
      "source": [
        "count=1\n",
        "while count<=5:\n",
        "  print(\"the count is\",count)\n",
        "  count +=1"
      ],
      "metadata": {
        "colab": {
          "base_uri": "https://localhost:8080/"
        },
        "id": "P_WRhaU5SUaJ",
        "outputId": "43324aca-b18c-4b98-80e7-0b765a00e04c"
      },
      "execution_count": null,
      "outputs": [
        {
          "output_type": "stream",
          "name": "stdout",
          "text": [
            "the count is 1\n",
            "the count is 2\n",
            "the count is 3\n",
            "the count is 4\n",
            "the count is 5\n"
          ]
        }
      ]
    },
    {
      "cell_type": "code",
      "source": [
        "while True:\n",
        "  print(\"Menu:\")\n",
        "  print(\"1.option 1\")\n",
        "  print(\"2.option 2\")\n",
        "  print(\"3.option 3\")\n",
        "  print(\"4. Quit 4\")\n",
        "  choice = int(input(\"Enter your choice:\"))\n",
        "\n",
        "  if choice ==1:\n",
        "    print(\"you selected option 1\")\n",
        "  elif choice ==2:\n",
        "    print(\"you selected option 2\")\n",
        "  elif choice ==3:\n",
        "    print(\"you selected option 3\")\n",
        "  elif choice ==4:\n",
        "    print(\"Goodbye\")\n",
        "    break\n",
        "  else:\n",
        "    print(\"invalid choice.please try again.\")"
      ],
      "metadata": {
        "colab": {
          "base_uri": "https://localhost:8080/"
        },
        "id": "72m9B5rPTRYq",
        "outputId": "f9bace9f-7b8e-422f-edb1-a4aaafe2a4a9"
      },
      "execution_count": null,
      "outputs": [
        {
          "output_type": "stream",
          "name": "stdout",
          "text": [
            "Menu:\n",
            "1.option 1\n",
            "2.option 2\n",
            "3.option 3\n",
            "4. Quit 4\n",
            "Enter your choice:3\n",
            "you selected option 3\n",
            "Menu:\n",
            "1.option 1\n",
            "2.option 2\n",
            "3.option 3\n",
            "4. Quit 4\n",
            "Enter your choice:2\n",
            "you selected option 2\n",
            "Menu:\n",
            "1.option 1\n",
            "2.option 2\n",
            "3.option 3\n",
            "4. Quit 4\n",
            "Enter your choice:1\n",
            "you selected option 1\n",
            "Menu:\n",
            "1.option 1\n",
            "2.option 2\n",
            "3.option 3\n",
            "4. Quit 4\n",
            "Enter your choice:4\n",
            "Goodbye\n"
          ]
        }
      ]
    },
    {
      "cell_type": "code",
      "source": [
        "import time\n",
        "countdown = 5\n",
        "print(\"counter started \")\n",
        "while countdown >0:\n",
        "  print(countdown)\n",
        "  time.sleep(1)\n",
        "  countdown -=1\n",
        "print(\"countdown finished\")"
      ],
      "metadata": {
        "colab": {
          "base_uri": "https://localhost:8080/"
        },
        "id": "siktRwdcVFT1",
        "outputId": "45b729f2-2700-474b-dfd2-f0a5b8032bb3"
      },
      "execution_count": null,
      "outputs": [
        {
          "output_type": "stream",
          "name": "stdout",
          "text": [
            "counter started \n",
            "5\n",
            "4\n",
            "3\n",
            "2\n",
            "1\n",
            "countdown finished\n"
          ]
        }
      ]
    },
    {
      "cell_type": "code",
      "source": [
        "colors = [\"red\",\"green\",\"blue\"]\n",
        "print(\"colors\",colors)\n",
        "colors.append(\"yellow\")\n",
        "print(\"colors\",colors)\n"
      ],
      "metadata": {
        "colab": {
          "base_uri": "https://localhost:8080/"
        },
        "id": "pgNXuS75a31N",
        "outputId": "cab2c098-6002-4005-da11-debbf16f7992"
      },
      "execution_count": null,
      "outputs": [
        {
          "output_type": "stream",
          "name": "stdout",
          "text": [
            "colors ['red', 'green', 'blue']\n",
            "colors ['red', 'green', 'blue', 'yellow']\n"
          ]
        }
      ]
    },
    {
      "cell_type": "code",
      "source": [
        "todo_list =[]\n",
        "\n",
        "print(\"welcome to do list \")\n",
        "\n",
        "while True:\n",
        "  print(\"Options\")\n",
        "  print(\"1.Add task\")\n",
        "  print(\"2.View tasks\")\n",
        "  print(\"3.Quit\")\n",
        "\n",
        "  choice = input(\"Enter your choice:\")\n",
        "\n",
        "  if choice == \"1\":\n",
        "    task = input(\"Enter a task:\")\n",
        "    todo_list.append(task)\n",
        "    print(\"tasl added:\")\n",
        "  elif choice == \"2\":\n",
        "    print(\"tasks:\")\n",
        "    for task in todo_list:\n",
        "      print(\"- \",task)\n",
        "  elif choice == \"3\":\n",
        "    print(\"Goodbye\")\n",
        "    break\n",
        "  else:\n",
        "    print(\"invalid choice.please try again.\")\n"
      ],
      "metadata": {
        "colab": {
          "base_uri": "https://localhost:8080/"
        },
        "id": "8jvMHD97b1JY",
        "outputId": "5d57e6e3-180d-442b-cdf3-551590899c98"
      },
      "execution_count": null,
      "outputs": [
        {
          "output_type": "stream",
          "name": "stdout",
          "text": [
            "welcome to do list \n",
            "Options\n",
            "1.Add task\n",
            "2.View tasks\n",
            "3.Quit\n",
            "Enter your choice:1\n",
            "Enter a task:3\n",
            "tasl added:\n",
            "Options\n",
            "1.Add task\n",
            "2.View tasks\n",
            "3.Quit\n",
            "Enter your choice:2\n",
            "tasks:\n",
            "-  3\n",
            "Options\n",
            "1.Add task\n",
            "2.View tasks\n",
            "3.Quit\n",
            "Enter your choice:4\n",
            "invalid choice.please try again.\n",
            "Options\n",
            "1.Add task\n",
            "2.View tasks\n",
            "3.Quit\n",
            "Enter your choice:3\n",
            "Goodbye\n"
          ]
        }
      ]
    },
    {
      "cell_type": "code",
      "source": [
        "person_info=(\"Alice\",23)\n",
        "print(\"person information:\")\n",
        "print(\"name:\",person_info[0])\n",
        "print(\"age:\",person_info[1])\n",
        "\n"
      ],
      "metadata": {
        "colab": {
          "base_uri": "https://localhost:8080/"
        },
        "id": "dEl4jVTqeDE2",
        "outputId": "0dd55856-a7ed-4b49-a931-9d4ef8fc94e6"
      },
      "execution_count": null,
      "outputs": [
        {
          "output_type": "stream",
          "name": "stdout",
          "text": [
            "person information:\n",
            "name: Alice\n",
            "age: 23\n"
          ]
        }
      ]
    },
    {
      "cell_type": "code",
      "source": [
        "student={\n",
        "    \"name\":\"Alice\",\n",
        "    \"age\":23,\n",
        "    \"major\":\"Computer Science\"\n",
        "\n",
        "}\n",
        "student[grade]=\"A\"\n",
        "name=student[\"name\"]\n",
        "print(\"student\",student)\n",
        "print(\"student\",name)"
      ],
      "metadata": {
        "colab": {
          "base_uri": "https://localhost:8080/"
        },
        "id": "453kKqVNecta",
        "outputId": "3d4c7369-46a3-489e-9677-6b14dda58bdb"
      },
      "execution_count": null,
      "outputs": [
        {
          "output_type": "stream",
          "name": "stdout",
          "text": [
            "student {'name': 'Alice', 'age': 23, 'major': 'Computer Science', 'F': 'A'}\n",
            "student Alice\n"
          ]
        }
      ]
    },
    {
      "cell_type": "code",
      "source": [
        "\n",
        "\n",
        "student1 = {\n",
        "    \"name\":\"Alice\",\n",
        "    \"age\":23,\n",
        "    \"major\":\"Computer Science\",\n",
        "    \"grade\":\"A\"\n",
        "}\n",
        "\n",
        "\n",
        "\n",
        "\n",
        "\n",
        "\n",
        "\n",
        "\n",
        "student2  = {\n",
        "    \"name\":\"Bob\",\n",
        "    \"age\":22,\n",
        "    \"major\":\"Mathematics\",\n",
        "    \"grade\": \"B\"\n",
        "    }\n",
        "students =[student1,student2]\n",
        "\n",
        "for student in students:\n",
        "  print(\"student name:\",student[\"name\"])\n",
        "  print(\"student age:\",student[\"age\"])\n",
        "  print(\"student major:\",student[\"major\"])\n",
        "  print(\"student grade:\",student[\"grade\"])\n",
        "  print()\n",
        "\n",
        "\n",
        "\n",
        "\n",
        "\n",
        "\n"
      ],
      "metadata": {
        "colab": {
          "base_uri": "https://localhost:8080/"
        },
        "id": "e4oNvkklghL4",
        "outputId": "a618cb4e-a529-4c05-d75a-c7379f50a2d6"
      },
      "execution_count": null,
      "outputs": [
        {
          "output_type": "stream",
          "name": "stdout",
          "text": [
            "student name: Alice\n",
            "student age: 23\n",
            "student major: Computer Science\n",
            "student grade: A\n",
            "\n",
            "student name: Bob\n",
            "student age: 22\n",
            "student major: Mathematics\n",
            "student grade: B\n",
            "\n"
          ]
        }
      ]
    }
  ]
}