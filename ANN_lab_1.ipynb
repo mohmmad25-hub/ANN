{
  "nbformat": 4,
  "nbformat_minor": 0,
  "metadata": {
    "colab": {
      "provenance": [],
      "authorship_tag": "ABX9TyPMOOpIVTmeRCdOjiaSbztt",
      "include_colab_link": true
    },
    "kernelspec": {
      "name": "python3",
      "display_name": "Python 3"
    },
    "language_info": {
      "name": "python"
    }
  },
  "cells": [
    {
      "cell_type": "markdown",
      "metadata": {
        "id": "view-in-github",
        "colab_type": "text"
      },
      "source": [
        "<a href=\"https://colab.research.google.com/github/mohmmad25-hub/ANN/blob/main/ANN_lab_1.ipynb\" target=\"_parent\"><img src=\"https://colab.research.google.com/assets/colab-badge.svg\" alt=\"Open In Colab\"/></a>"
      ]
    },
    {
      "cell_type": "code",
      "execution_count": 1,
      "metadata": {
        "colab": {
          "base_uri": "https://localhost:8080/"
        },
        "id": "ntQW99uI1ZMB",
        "outputId": "1cc71cce-75cb-4cc4-ffec-5c82c0fed8cb"
      },
      "outputs": [
        {
          "output_type": "stream",
          "name": "stdout",
          "text": [
            "Sum: 15\n",
            "Difference: 5\n",
            "Product: 50\n",
            "Division: 2.0\n"
          ]
        }
      ],
      "source": [
        "a = 10\n",
        "b = 5\n",
        "\n",
        "sum = a + b\n",
        "difference = a - b\n",
        "product = a * b\n",
        "division = a / b\n",
        "\n",
        "print(\"Sum:\", sum)\n",
        "print(\"Difference:\", difference)\n",
        "print(\"Product:\", product)\n",
        "print(\"Division:\", division)"
      ]
    },
    {
      "cell_type": "code",
      "source": [
        "print(f\"The sum of the two numbers {a}, {b} is {sum}\")"
      ],
      "metadata": {
        "colab": {
          "base_uri": "https://localhost:8080/"
        },
        "id": "-zIFd6N9cUNl",
        "outputId": "539c19d3-0587-4c28-95ba-79c27f1057d3"
      },
      "execution_count": 2,
      "outputs": [
        {
          "output_type": "stream",
          "name": "stdout",
          "text": [
            "The sum of the two numbers 10, 5 is 15\n"
          ]
        }
      ]
    },
    {
      "cell_type": "code",
      "source": [
        "x = 13 // 2\n",
        "y = 13 % 2\n",
        "\n",
        "print(x)\n",
        "print(y)"
      ],
      "metadata": {
        "colab": {
          "base_uri": "https://localhost:8080/"
        },
        "id": "w80WQxnQ2wts",
        "outputId": "d63305b9-ed6b-47b2-8002-e35ed79bc672"
      },
      "execution_count": null,
      "outputs": [
        {
          "output_type": "stream",
          "name": "stdout",
          "text": [
            "6.5\n",
            "1\n"
          ]
        }
      ]
    },
    {
      "cell_type": "code",
      "source": [
        "# boolean Variables and Comparisons\n",
        "x = 10\n",
        "y = 5\n",
        "\n",
        "is_equal = x == y\n",
        "is_not_equal = x != y\n",
        "is_greater_than = x > y\n",
        "\n",
        "print('is x greater than y?', is_greater_than)\n",
        "print('is x equal to y?', is_equal)\n",
        "print('is x not equal to y?', is_not_equal)\n"
      ],
      "metadata": {
        "colab": {
          "base_uri": "https://localhost:8080/"
        },
        "id": "5sJHCavvc_X_",
        "outputId": "f1973875-bc87-4f35-9a5f-60682ca2b641"
      },
      "execution_count": 4,
      "outputs": [
        {
          "output_type": "stream",
          "name": "stdout",
          "text": [
            "is x greater than y? True\n",
            "is x equal to y? False\n",
            "is x not equal to y? True\n",
            "Alaa's age is 55. He is a professor True\n"
          ]
        }
      ]
    },
    {
      "cell_type": "code",
      "source": [
        "# Variable assignment\n",
        "name = 'Alaa'\n",
        "age = 55\n",
        "is_professor = True\n",
        "print(f\"{name}'s age is {age}. He is a professor {is_professor}\")"
      ],
      "metadata": {
        "colab": {
          "base_uri": "https://localhost:8080/"
        },
        "id": "ymhBJRM7f6vo",
        "outputId": "4baa659b-4a92-4d7a-9f1e-18b443d34113"
      },
      "execution_count": 5,
      "outputs": [
        {
          "output_type": "stream",
          "name": "stdout",
          "text": [
            "Alaa's age is 55. He is a professor True\n"
          ]
        }
      ]
    },
    {
      "cell_type": "code",
      "source": [
        "# defining\n",
        "def greet(name):\n",
        "    return(\"Hello, \" + name + \"!\")\n",
        "\n",
        "my_name = input('Please enter your name:')\n",
        "greet(my_name)"
      ],
      "metadata": {
        "colab": {
          "base_uri": "https://localhost:8080/",
          "height": 52
        },
        "id": "TEUAYJSo3Laq",
        "outputId": "f537995b-c42d-40ad-a101-f0cad7017559"
      },
      "execution_count": null,
      "outputs": [
        {
          "name": "stdout",
          "output_type": "stream",
          "text": [
            "Please enter your name:Mohmmad\n"
          ]
        },
        {
          "output_type": "execute_result",
          "data": {
            "text/plain": [
              "'Hello, Mohmmad!'"
            ],
            "application/vnd.google.colaboratory.intrinsic+json": {
              "type": "string"
            }
          },
          "metadata": {},
          "execution_count": 5
        }
      ]
    },
    {
      "cell_type": "code",
      "source": [
        "def add_numbers(a, b):\n",
        "    return a + b\n",
        "\n",
        "a = int(input(\"Enter the first number: \"))\n",
        "b = int(input(\"Enter the second number: \"))\n",
        "\n",
        "result = add_numbers(a, b)\n",
        "print(\"The sum of\", a, \"and\", b, \"is\", result)"
      ],
      "metadata": {
        "colab": {
          "base_uri": "https://localhost:8080/"
        },
        "id": "GWdyP2b_3_or",
        "outputId": "7b08b2a5-f330-427c-d655-cfcfe416f692"
      },
      "execution_count": null,
      "outputs": [
        {
          "output_type": "stream",
          "name": "stdout",
          "text": [
            "Enter the first number: 51\n",
            "Enter the second number: 5\n",
            "The sum of 51 and 5 is 56\n"
          ]
        }
      ]
    },
    {
      "cell_type": "code",
      "source": [
        "# Working with strings\n",
        "message = 'Hello, World!'\n",
        "length = len(message)\n",
        "uppercase_message = message.upper()\n",
        "lowercase_message = message.lower()\n",
        "substring = message[7:12]\n",
        "\n",
        "print('original message', message)\n",
        "print('length of message', length)\n",
        "print('uppercase message', uppercase_message)\n",
        "print('lowercase message', lowercase_message)\n",
        "print('substring', substring)"
      ],
      "metadata": {
        "colab": {
          "base_uri": "https://localhost:8080/"
        },
        "id": "9eX_syZV5To4",
        "outputId": "5a0dba42-cb7b-4ebd-e2de-a39eda0a81d0"
      },
      "execution_count": null,
      "outputs": [
        {
          "output_type": "stream",
          "name": "stdout",
          "text": [
            "original message Hello, World!\n",
            "length of message 13\n",
            "uppercase message HELLO, WORLD!\n",
            "lowercase message hello, world!\n",
            "substring World\n"
          ]
        }
      ]
    },
    {
      "cell_type": "markdown",
      "source": [
        "**Some examples on the use of the input command in python**"
      ],
      "metadata": {
        "id": "NBQUjNY3hFPO"
      }
    },
    {
      "cell_type": "code",
      "source": [
        "#  Basic input example\n",
        "last = input('Please enter your last name:')\n",
        "first = input('Please enter your first name:')\n",
        "print(f\"{last}, {first}\")"
      ],
      "metadata": {
        "colab": {
          "base_uri": "https://localhost:8080/"
        },
        "id": "Dgt9vHEThMkv",
        "outputId": "da02aca2-9d80-4eae-8217-5241b6789634"
      },
      "execution_count": 6,
      "outputs": [
        {
          "output_type": "stream",
          "name": "stdout",
          "text": [
            "Please enter your last name:Alriyati\n",
            "Please enter your first name:Mohmmad\n",
            "Alriyati, Mohmmad\n"
          ]
        }
      ]
    },
    {
      "cell_type": "code",
      "source": [
        "# Numeric input example\n",
        "age = int(input('Please enter your age:'))\n",
        "print(f\"You will be {age + 1} years old, next year\")"
      ],
      "metadata": {
        "colab": {
          "base_uri": "https://localhost:8080/"
        },
        "id": "OD_rpsfWhyAg",
        "outputId": "89c8fdd6-016d-4888-9b5c-14b7064a4b0f"
      },
      "execution_count": 7,
      "outputs": [
        {
          "output_type": "stream",
          "name": "stdout",
          "text": [
            "Please enter your age:22\n",
            "You will be 23 years old, next year\n"
          ]
        }
      ]
    },
    {
      "cell_type": "code",
      "source": [
        "# Calculation with input\n",
        "num_1 = float(input('Please enter the first number:'))\n",
        "num_2 = float(input('Please enter the second number:'))\n",
        "sum = num_1 + num_2\n",
        "print(f\"The sum of {num_1} and {num_2} is {sum}\")"
      ],
      "metadata": {
        "colab": {
          "base_uri": "https://localhost:8080/"
        },
        "id": "ZeMeTuE6iPwu",
        "outputId": "1389a0d1-ed23-44d9-9f68-892fc25403d6"
      },
      "execution_count": 9,
      "outputs": [
        {
          "output_type": "stream",
          "name": "stdout",
          "text": [
            "Please enter the first number:3.2\n",
            "Please enter the second number:57.3\n",
            "The sum of 3.2 and 57.3 is 60.5\n"
          ]
        }
      ]
    },
    {
      "cell_type": "code",
      "source": [
        "# Multiple Input\n",
        "name, age = input('Please enter your name and age:').split()\n",
        "print(f\"{name} is {age} years old\")"
      ],
      "metadata": {
        "colab": {
          "base_uri": "https://localhost:8080/"
        },
        "id": "YnUgqZwjijKu",
        "outputId": "725cd169-a54c-4188-ee04-8a186e9cd028"
      },
      "execution_count": 10,
      "outputs": [
        {
          "output_type": "stream",
          "name": "stdout",
          "text": [
            "Please enter your name and age:Sameer 55\n",
            "Sameer is 55 years old\n"
          ]
        }
      ]
    }
  ]
}